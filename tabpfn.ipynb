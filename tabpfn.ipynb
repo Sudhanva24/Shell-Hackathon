{
 "cells": [
  {
   "cell_type": "code",
   "execution_count": 1,
   "metadata": {
    "_cell_guid": "b1076dfc-b9ad-4769-8c92-a6c4dae69d19",
    "_uuid": "8f2839f25d086af736a60e9eeb907d3b93b6e0e5",
    "execution": {
     "iopub.execute_input": "2025-07-12T19:36:30.515154Z",
     "iopub.status.busy": "2025-07-12T19:36:30.514946Z",
     "iopub.status.idle": "2025-07-12T19:36:31.601743Z",
     "shell.execute_reply": "2025-07-12T19:36:31.601107Z",
     "shell.execute_reply.started": "2025-07-12T19:36:30.515131Z"
    },
    "trusted": true
   },
   "outputs": [
    {
     "name": "stdout",
     "output_type": "stream",
     "text": [
      "/kaggle/input/shelldata/test_featured.csv\n",
      "/kaggle/input/shelldata/train_featured.csv\n",
      "/kaggle/input/shelldata/train.csv\n",
      "/kaggle/input/shelldata/test.csv\n"
     ]
    }
   ],
   "source": [
    "# This Python 3 environment comes with many helpful analytics libraries installed\n",
    "# It is defined by the kaggle/python Docker image: https://github.com/kaggle/docker-python\n",
    "# For example, here's several helpful packages to load\n",
    "\n",
    "import numpy as np # linear algebra\n",
    "import pandas as pd # data processing, CSV file I/O (e.g. pd.read_csv)\n",
    "\n",
    "# Input data files are available in the read-only \"../input/\" directory\n",
    "# For example, running this (by clicking run or pressing Shift+Enter) will list all files under the input directory\n",
    "\n",
    "import os\n",
    "for dirname, _, filenames in os.walk('/kaggle/input'):\n",
    "    for filename in filenames:\n",
    "        print(os.path.join(dirname, filename))\n",
    "\n",
    "# You can write up to 20GB to the current directory (/kaggle/working/) that gets preserved as output when you create a version using \"Save & Run All\" \n",
    "# You can also write temporary files to /kaggle/temp/, but they won't be saved outside of the current session"
   ]
  },
  {
   "cell_type": "code",
   "execution_count": null,
   "metadata": {
    "trusted": true
   },
   "outputs": [],
   "source": []
  },
  {
   "cell_type": "code",
   "execution_count": 9,
   "metadata": {
    "execution": {
     "iopub.execute_input": "2025-07-12T19:38:39.897588Z",
     "iopub.status.busy": "2025-07-12T19:38:39.897325Z",
     "iopub.status.idle": "2025-07-12T19:38:43.117051Z",
     "shell.execute_reply": "2025-07-12T19:38:43.116297Z",
     "shell.execute_reply.started": "2025-07-12T19:38:39.897564Z"
    },
    "trusted": true
   },
   "outputs": [
    {
     "name": "stdout",
     "output_type": "stream",
     "text": [
      "Requirement already satisfied: tabpfn in /usr/local/lib/python3.11/dist-packages (2.1.0)\n",
      "Requirement already satisfied: torch<3,>=2.1 in /usr/local/lib/python3.11/dist-packages (from tabpfn) (2.6.0+cu124)\n",
      "Requirement already satisfied: scikit-learn<1.7,>=1.2.0 in /usr/local/lib/python3.11/dist-packages (from tabpfn) (1.2.2)\n",
      "Requirement already satisfied: typing_extensions>=4.4.0 in /usr/local/lib/python3.11/dist-packages (from tabpfn) (4.14.0)\n",
      "Requirement already satisfied: scipy<2,>=1.11.1 in /usr/local/lib/python3.11/dist-packages (from tabpfn) (1.15.3)\n",
      "Requirement already satisfied: pandas<3,>=1.4.0 in /usr/local/lib/python3.11/dist-packages (from tabpfn) (2.2.3)\n",
      "Requirement already satisfied: einops<0.9,>=0.2.0 in /usr/local/lib/python3.11/dist-packages (from tabpfn) (0.8.1)\n",
      "Requirement already satisfied: huggingface-hub<1,>=0.0.1 in /usr/local/lib/python3.11/dist-packages (from tabpfn) (0.33.1)\n",
      "Requirement already satisfied: filelock in /usr/local/lib/python3.11/dist-packages (from huggingface-hub<1,>=0.0.1->tabpfn) (3.18.0)\n",
      "Requirement already satisfied: fsspec>=2023.5.0 in /usr/local/lib/python3.11/dist-packages (from huggingface-hub<1,>=0.0.1->tabpfn) (2025.5.1)\n",
      "Requirement already satisfied: packaging>=20.9 in /usr/local/lib/python3.11/dist-packages (from huggingface-hub<1,>=0.0.1->tabpfn) (25.0)\n",
      "Requirement already satisfied: pyyaml>=5.1 in /usr/local/lib/python3.11/dist-packages (from huggingface-hub<1,>=0.0.1->tabpfn) (6.0.2)\n",
      "Requirement already satisfied: requests in /usr/local/lib/python3.11/dist-packages (from huggingface-hub<1,>=0.0.1->tabpfn) (2.32.4)\n",
      "Requirement already satisfied: tqdm>=4.42.1 in /usr/local/lib/python3.11/dist-packages (from huggingface-hub<1,>=0.0.1->tabpfn) (4.67.1)\n",
      "Requirement already satisfied: hf-xet<2.0.0,>=1.1.2 in /usr/local/lib/python3.11/dist-packages (from huggingface-hub<1,>=0.0.1->tabpfn) (1.1.5)\n",
      "Requirement already satisfied: numpy>=1.23.2 in /usr/local/lib/python3.11/dist-packages (from pandas<3,>=1.4.0->tabpfn) (1.26.4)\n",
      "Requirement already satisfied: python-dateutil>=2.8.2 in /usr/local/lib/python3.11/dist-packages (from pandas<3,>=1.4.0->tabpfn) (2.9.0.post0)\n",
      "Requirement already satisfied: pytz>=2020.1 in /usr/local/lib/python3.11/dist-packages (from pandas<3,>=1.4.0->tabpfn) (2025.2)\n",
      "Requirement already satisfied: tzdata>=2022.7 in /usr/local/lib/python3.11/dist-packages (from pandas<3,>=1.4.0->tabpfn) (2025.2)\n",
      "Requirement already satisfied: joblib>=1.1.1 in /usr/local/lib/python3.11/dist-packages (from scikit-learn<1.7,>=1.2.0->tabpfn) (1.5.1)\n",
      "Requirement already satisfied: threadpoolctl>=2.0.0 in /usr/local/lib/python3.11/dist-packages (from scikit-learn<1.7,>=1.2.0->tabpfn) (3.6.0)\n",
      "Requirement already satisfied: networkx in /usr/local/lib/python3.11/dist-packages (from torch<3,>=2.1->tabpfn) (3.5)\n",
      "Requirement already satisfied: jinja2 in /usr/local/lib/python3.11/dist-packages (from torch<3,>=2.1->tabpfn) (3.1.6)\n",
      "Requirement already satisfied: nvidia-cuda-nvrtc-cu12==12.4.127 in /usr/local/lib/python3.11/dist-packages (from torch<3,>=2.1->tabpfn) (12.4.127)\n",
      "Requirement already satisfied: nvidia-cuda-runtime-cu12==12.4.127 in /usr/local/lib/python3.11/dist-packages (from torch<3,>=2.1->tabpfn) (12.4.127)\n",
      "Requirement already satisfied: nvidia-cuda-cupti-cu12==12.4.127 in /usr/local/lib/python3.11/dist-packages (from torch<3,>=2.1->tabpfn) (12.4.127)\n",
      "Requirement already satisfied: nvidia-cudnn-cu12==9.1.0.70 in /usr/local/lib/python3.11/dist-packages (from torch<3,>=2.1->tabpfn) (9.1.0.70)\n",
      "Requirement already satisfied: nvidia-cublas-cu12==12.4.5.8 in /usr/local/lib/python3.11/dist-packages (from torch<3,>=2.1->tabpfn) (12.4.5.8)\n",
      "Requirement already satisfied: nvidia-cufft-cu12==11.2.1.3 in /usr/local/lib/python3.11/dist-packages (from torch<3,>=2.1->tabpfn) (11.2.1.3)\n",
      "Requirement already satisfied: nvidia-curand-cu12==10.3.5.147 in /usr/local/lib/python3.11/dist-packages (from torch<3,>=2.1->tabpfn) (10.3.5.147)\n",
      "Requirement already satisfied: nvidia-cusolver-cu12==11.6.1.9 in /usr/local/lib/python3.11/dist-packages (from torch<3,>=2.1->tabpfn) (11.6.1.9)\n",
      "Requirement already satisfied: nvidia-cusparse-cu12==12.3.1.170 in /usr/local/lib/python3.11/dist-packages (from torch<3,>=2.1->tabpfn) (12.3.1.170)\n",
      "Requirement already satisfied: nvidia-cusparselt-cu12==0.6.2 in /usr/local/lib/python3.11/dist-packages (from torch<3,>=2.1->tabpfn) (0.6.2)\n",
      "Requirement already satisfied: nvidia-nccl-cu12==2.21.5 in /usr/local/lib/python3.11/dist-packages (from torch<3,>=2.1->tabpfn) (2.21.5)\n",
      "Requirement already satisfied: nvidia-nvtx-cu12==12.4.127 in /usr/local/lib/python3.11/dist-packages (from torch<3,>=2.1->tabpfn) (12.4.127)\n",
      "Requirement already satisfied: nvidia-nvjitlink-cu12==12.4.127 in /usr/local/lib/python3.11/dist-packages (from torch<3,>=2.1->tabpfn) (12.4.127)\n",
      "Requirement already satisfied: triton==3.2.0 in /usr/local/lib/python3.11/dist-packages (from torch<3,>=2.1->tabpfn) (3.2.0)\n",
      "Requirement already satisfied: sympy==1.13.1 in /usr/local/lib/python3.11/dist-packages (from torch<3,>=2.1->tabpfn) (1.13.1)\n",
      "Requirement already satisfied: mpmath<1.4,>=1.1.0 in /usr/local/lib/python3.11/dist-packages (from sympy==1.13.1->torch<3,>=2.1->tabpfn) (1.3.0)\n",
      "Requirement already satisfied: mkl_fft in /usr/local/lib/python3.11/dist-packages (from numpy>=1.23.2->pandas<3,>=1.4.0->tabpfn) (1.3.8)\n",
      "Requirement already satisfied: mkl_random in /usr/local/lib/python3.11/dist-packages (from numpy>=1.23.2->pandas<3,>=1.4.0->tabpfn) (1.2.4)\n",
      "Requirement already satisfied: mkl_umath in /usr/local/lib/python3.11/dist-packages (from numpy>=1.23.2->pandas<3,>=1.4.0->tabpfn) (0.1.1)\n",
      "Requirement already satisfied: mkl in /usr/local/lib/python3.11/dist-packages (from numpy>=1.23.2->pandas<3,>=1.4.0->tabpfn) (2025.2.0)\n",
      "Requirement already satisfied: tbb4py in /usr/local/lib/python3.11/dist-packages (from numpy>=1.23.2->pandas<3,>=1.4.0->tabpfn) (2022.2.0)\n",
      "Requirement already satisfied: mkl-service in /usr/local/lib/python3.11/dist-packages (from numpy>=1.23.2->pandas<3,>=1.4.0->tabpfn) (2.4.1)\n",
      "Requirement already satisfied: six>=1.5 in /usr/local/lib/python3.11/dist-packages (from python-dateutil>=2.8.2->pandas<3,>=1.4.0->tabpfn) (1.17.0)\n",
      "Requirement already satisfied: MarkupSafe>=2.0 in /usr/local/lib/python3.11/dist-packages (from jinja2->torch<3,>=2.1->tabpfn) (3.0.2)\n",
      "Requirement already satisfied: charset_normalizer<4,>=2 in /usr/local/lib/python3.11/dist-packages (from requests->huggingface-hub<1,>=0.0.1->tabpfn) (3.4.2)\n",
      "Requirement already satisfied: idna<4,>=2.5 in /usr/local/lib/python3.11/dist-packages (from requests->huggingface-hub<1,>=0.0.1->tabpfn) (3.10)\n",
      "Requirement already satisfied: urllib3<3,>=1.21.1 in /usr/local/lib/python3.11/dist-packages (from requests->huggingface-hub<1,>=0.0.1->tabpfn) (2.5.0)\n",
      "Requirement already satisfied: certifi>=2017.4.17 in /usr/local/lib/python3.11/dist-packages (from requests->huggingface-hub<1,>=0.0.1->tabpfn) (2025.6.15)\n",
      "Requirement already satisfied: intel-openmp<2026,>=2024 in /usr/local/lib/python3.11/dist-packages (from mkl->numpy>=1.23.2->pandas<3,>=1.4.0->tabpfn) (2024.2.0)\n",
      "Requirement already satisfied: tbb==2022.* in /usr/local/lib/python3.11/dist-packages (from mkl->numpy>=1.23.2->pandas<3,>=1.4.0->tabpfn) (2022.2.0)\n",
      "Requirement already satisfied: tcmlib==1.* in /usr/local/lib/python3.11/dist-packages (from tbb==2022.*->mkl->numpy>=1.23.2->pandas<3,>=1.4.0->tabpfn) (1.4.0)\n",
      "Requirement already satisfied: intel-cmplr-lib-rt in /usr/local/lib/python3.11/dist-packages (from mkl_umath->numpy>=1.23.2->pandas<3,>=1.4.0->tabpfn) (2024.2.0)\n",
      "Requirement already satisfied: intel-cmplr-lib-ur==2024.2.0 in /usr/local/lib/python3.11/dist-packages (from intel-openmp<2026,>=2024->mkl->numpy>=1.23.2->pandas<3,>=1.4.0->tabpfn) (2024.2.0)\n"
     ]
    }
   ],
   "source": [
    "!pip install tabpfn"
   ]
  },
  {
   "cell_type": "code",
   "execution_count": 10,
   "metadata": {
    "execution": {
     "iopub.execute_input": "2025-07-12T19:38:47.898584Z",
     "iopub.status.busy": "2025-07-12T19:38:47.898285Z",
     "iopub.status.idle": "2025-07-12T19:38:51.951462Z",
     "shell.execute_reply": "2025-07-12T19:38:51.950929Z",
     "shell.execute_reply.started": "2025-07-12T19:38:47.898555Z"
    },
    "trusted": true
   },
   "outputs": [],
   "source": [
    "import pandas as pd\n",
    "import numpy as np\n",
    "from sklearn.preprocessing import StandardScaler\n",
    "from sklearn.model_selection import cross_val_score, KFold\n",
    "from sklearn.multioutput import MultiOutputRegressor\n",
    "from sklearn.metrics import mean_absolute_percentage_error, make_scorer\n",
    "from tabpfn import TabPFNRegressor"
   ]
  },
  {
   "cell_type": "code",
   "execution_count": 11,
   "metadata": {
    "execution": {
     "iopub.execute_input": "2025-07-12T19:38:56.258162Z",
     "iopub.status.busy": "2025-07-12T19:38:56.257193Z",
     "iopub.status.idle": "2025-07-12T19:38:56.261972Z",
     "shell.execute_reply": "2025-07-12T19:38:56.261318Z",
     "shell.execute_reply.started": "2025-07-12T19:38:56.258135Z"
    },
    "trusted": true
   },
   "outputs": [],
   "source": [
    "import pandas as pd\n",
    "import numpy as np\n",
    "from sklearn.preprocessing import LabelEncoder, StandardScaler\n",
    "from sklearn.model_selection import cross_val_score, StratifiedKFold\n",
    "from tabpfn import TabPFNRegressor\n",
    "from sklearn.multioutput import MultiOutputRegressor\n",
    "from sklearn.metrics import mean_absolute_percentage_error, make_scorer"
   ]
  },
  {
   "cell_type": "code",
   "execution_count": 12,
   "metadata": {
    "execution": {
     "iopub.execute_input": "2025-07-12T19:38:58.933223Z",
     "iopub.status.busy": "2025-07-12T19:38:58.932755Z",
     "iopub.status.idle": "2025-07-12T19:38:58.938353Z",
     "shell.execute_reply": "2025-07-12T19:38:58.937772Z",
     "shell.execute_reply.started": "2025-07-12T19:38:58.933199Z"
    },
    "trusted": true
   },
   "outputs": [],
   "source": [
    "# Evaluation functions\n",
    "def calculate_mape(y_true, y_pred):\n",
    "    \"\"\"Use sklearn's MAPE implementation.\"\"\"\n",
    "    return mean_absolute_percentage_error(y_true, y_pred)\n",
    "\n",
    "def calculate_leaderboard_score(mape_cost, leaderboard_type='public'):\n",
    "    \"\"\"Leaderboard score: max[10, 100 - (90 × MAPE / Ref Cost)]\"\"\"\n",
    "    ref_cost = 2.72  # Public leaderboard reference cost\n",
    "    score = max(10, 100 - (90 * mape_cost) / ref_cost)\n",
    "    return score\n",
    "\n",
    "def evaluate_model(y_true, y_pred, leaderboard_type='public'):\n",
    "    \"\"\"Evaluate model using MAPE and leaderboard score.\"\"\"\n",
    "    mape = calculate_mape(y_true, y_pred)\n",
    "    score = calculate_leaderboard_score(mape, leaderboard_type)\n",
    "    return score, mape\n",
    "\n",
    "# Create scorer for cross-validation (negative because sklearn maximizes scores)\n",
    "def leaderboard_scorer(y_true, y_pred):\n",
    "    score, _ = evaluate_model(y_true, y_pred)\n",
    "    return score\n",
    "\n",
    "custom_scorer = make_scorer(leaderboard_scorer, greater_is_better=True)\n"
   ]
  },
  {
   "cell_type": "code",
   "execution_count": 13,
   "metadata": {
    "execution": {
     "iopub.execute_input": "2025-07-12T19:39:02.549810Z",
     "iopub.status.busy": "2025-07-12T19:39:02.549444Z",
     "iopub.status.idle": "2025-07-12T19:39:02.607572Z",
     "shell.execute_reply": "2025-07-12T19:39:02.606887Z",
     "shell.execute_reply.started": "2025-07-12T19:39:02.549786Z"
    },
    "trusted": true
   },
   "outputs": [],
   "source": [
    "\n",
    "train = pd.read_csv('/kaggle/input/shelldata/train.csv')\n",
    "test = pd.read_csv('/kaggle/input/shelldata/test.csv')"
   ]
  },
  {
   "cell_type": "code",
   "execution_count": 14,
   "metadata": {
    "execution": {
     "iopub.execute_input": "2025-07-12T19:39:16.675283Z",
     "iopub.status.busy": "2025-07-12T19:39:16.674753Z",
     "iopub.status.idle": "2025-07-12T19:39:16.679870Z",
     "shell.execute_reply": "2025-07-12T19:39:16.678987Z",
     "shell.execute_reply.started": "2025-07-12T19:39:16.675259Z"
    },
    "trusted": true
   },
   "outputs": [],
   "source": [
    "feature_columns = train.columns\n",
    "target_columns = [col for col in train.columns if 'BlendProperty' in col]\n",
    "feature_columns=train.columns.drop(target_columns)"
   ]
  },
  {
   "cell_type": "code",
   "execution_count": 15,
   "metadata": {
    "execution": {
     "iopub.execute_input": "2025-07-12T19:39:18.880825Z",
     "iopub.status.busy": "2025-07-12T19:39:18.880250Z",
     "iopub.status.idle": "2025-07-12T19:39:18.886277Z",
     "shell.execute_reply": "2025-07-12T19:39:18.885649Z",
     "shell.execute_reply.started": "2025-07-12T19:39:18.880802Z"
    },
    "trusted": true
   },
   "outputs": [],
   "source": [
    "# Separate features and target\n",
    "# Assuming last column is target, adjust if needed\n",
    "X_train = train[feature_columns]  # All columns except last\n",
    "y_train = train[target_columns]   # Last column as target\n",
    "\n",
    "X_test = test[feature_columns]\n"
   ]
  },
  {
   "cell_type": "code",
   "execution_count": null,
   "metadata": {
    "execution": {
     "iopub.execute_input": "2025-07-12T19:39:19.157267Z",
     "iopub.status.busy": "2025-07-12T19:39:19.156891Z",
     "iopub.status.idle": "2025-07-12T19:39:19.160524Z",
     "shell.execute_reply": "2025-07-12T19:39:19.159788Z",
     "shell.execute_reply.started": "2025-07-12T19:39:19.157250Z"
    },
    "trusted": true
   },
   "outputs": [],
   "source": [
    "# Init\n",
    "clf = TabPFNRegressor(device='cuda')"
   ]
  },
  {
   "cell_type": "code",
   "execution_count": 17,
   "metadata": {
    "execution": {
     "iopub.execute_input": "2025-07-12T19:39:21.287979Z",
     "iopub.status.busy": "2025-07-12T19:39:21.287387Z",
     "iopub.status.idle": "2025-07-12T19:39:21.291506Z",
     "shell.execute_reply": "2025-07-12T19:39:21.290786Z",
     "shell.execute_reply.started": "2025-07-12T19:39:21.287954Z"
    },
    "trusted": true
   },
   "outputs": [],
   "source": [
    "clf = MultiOutputRegressor(clf)"
   ]
  },
  {
   "cell_type": "code",
   "execution_count": null,
   "metadata": {
    "trusted": true
   },
   "outputs": [],
   "source": []
  },
  {
   "cell_type": "code",
   "execution_count": 18,
   "metadata": {
    "execution": {
     "iopub.execute_input": "2025-07-12T19:39:23.423749Z",
     "iopub.status.busy": "2025-07-12T19:39:23.423216Z",
     "iopub.status.idle": "2025-07-12T19:43:25.267160Z",
     "shell.execute_reply": "2025-07-12T19:43:25.266570Z",
     "shell.execute_reply.started": "2025-07-12T19:39:23.423724Z"
    },
    "trusted": true
   },
   "outputs": [
    {
     "data": {
      "application/vnd.jupyter.widget-view+json": {
       "model_id": "b196379152fb46c5b939c72b9719b3ca",
       "version_major": 2,
       "version_minor": 0
      },
      "text/plain": [
       "tabpfn-v2-regressor.ckpt:   0%|          | 0.00/44.4M [00:00<?, ?B/s]"
      ]
     },
     "metadata": {},
     "output_type": "display_data"
    },
    {
     "data": {
      "application/vnd.jupyter.widget-view+json": {
       "model_id": "3811a6d6cc6a41cd8646adf46c628bf1",
       "version_major": 2,
       "version_minor": 0
      },
      "text/plain": [
       "config.json:   0%|          | 0.00/37.0 [00:00<?, ?B/s]"
      ]
     },
     "metadata": {},
     "output_type": "display_data"
    }
   ],
   "source": [
    "cv_scores = cross_val_score(clf, X_train, y_train, \n",
    "                           cv=KFold(n_splits=5, shuffle=True, random_state=42), \n",
    "                           scoring=custom_scorer)\n"
   ]
  },
  {
   "cell_type": "code",
   "execution_count": 19,
   "metadata": {
    "execution": {
     "iopub.execute_input": "2025-07-12T19:43:25.269106Z",
     "iopub.status.busy": "2025-07-12T19:43:25.268426Z",
     "iopub.status.idle": "2025-07-12T19:43:25.273050Z",
     "shell.execute_reply": "2025-07-12T19:43:25.272366Z",
     "shell.execute_reply.started": "2025-07-12T19:43:25.269084Z"
    },
    "trusted": true
   },
   "outputs": [
    {
     "name": "stdout",
     "output_type": "stream",
     "text": [
      "TabPFN CV Leaderboard Score: 83.2954 (+/- 8.2757)\n"
     ]
    }
   ],
   "source": [
    "print(f\"TabPFN CV Leaderboard Score: {cv_scores.mean():.4f} (+/- {cv_scores.std() * 2:.4f})\")"
   ]
  },
  {
   "cell_type": "code",
   "execution_count": 20,
   "metadata": {
    "execution": {
     "iopub.execute_input": "2025-07-12T19:43:31.461888Z",
     "iopub.status.busy": "2025-07-12T19:43:31.461153Z",
     "iopub.status.idle": "2025-07-12T19:47:37.856336Z",
     "shell.execute_reply": "2025-07-12T19:47:37.855735Z",
     "shell.execute_reply.started": "2025-07-12T19:43:31.461862Z"
    },
    "trusted": true
   },
   "outputs": [
    {
     "name": "stdout",
     "output_type": "stream",
     "text": [
      "TabPFN CV MAPE: 0.5049 (+/- 0.2501)\n"
     ]
    }
   ],
   "source": [
    "mape_scores = cross_val_score(clf, X_train, y_train, \n",
    "                             cv=KFold(n_splits=5, shuffle=True, random_state=42), \n",
    "                             scoring=make_scorer(calculate_mape, greater_is_better=False))\n",
    "print(f\"TabPFN CV MAPE: {-mape_scores.mean():.4f} (+/- {mape_scores.std() * 2:.4f})\")"
   ]
  },
  {
   "cell_type": "code",
   "execution_count": 21,
   "metadata": {
    "execution": {
     "iopub.execute_input": "2025-07-12T19:48:01.716226Z",
     "iopub.status.busy": "2025-07-12T19:48:01.715980Z",
     "iopub.status.idle": "2025-07-12T19:48:16.180833Z",
     "shell.execute_reply": "2025-07-12T19:48:16.180151Z",
     "shell.execute_reply.started": "2025-07-12T19:48:01.716210Z"
    },
    "trusted": true
   },
   "outputs": [
    {
     "data": {
      "text/html": [
       "<style>#sk-container-id-1 {color: black;background-color: white;}#sk-container-id-1 pre{padding: 0;}#sk-container-id-1 div.sk-toggleable {background-color: white;}#sk-container-id-1 label.sk-toggleable__label {cursor: pointer;display: block;width: 100%;margin-bottom: 0;padding: 0.3em;box-sizing: border-box;text-align: center;}#sk-container-id-1 label.sk-toggleable__label-arrow:before {content: \"▸\";float: left;margin-right: 0.25em;color: #696969;}#sk-container-id-1 label.sk-toggleable__label-arrow:hover:before {color: black;}#sk-container-id-1 div.sk-estimator:hover label.sk-toggleable__label-arrow:before {color: black;}#sk-container-id-1 div.sk-toggleable__content {max-height: 0;max-width: 0;overflow: hidden;text-align: left;background-color: #f0f8ff;}#sk-container-id-1 div.sk-toggleable__content pre {margin: 0.2em;color: black;border-radius: 0.25em;background-color: #f0f8ff;}#sk-container-id-1 input.sk-toggleable__control:checked~div.sk-toggleable__content {max-height: 200px;max-width: 100%;overflow: auto;}#sk-container-id-1 input.sk-toggleable__control:checked~label.sk-toggleable__label-arrow:before {content: \"▾\";}#sk-container-id-1 div.sk-estimator input.sk-toggleable__control:checked~label.sk-toggleable__label {background-color: #d4ebff;}#sk-container-id-1 div.sk-label input.sk-toggleable__control:checked~label.sk-toggleable__label {background-color: #d4ebff;}#sk-container-id-1 input.sk-hidden--visually {border: 0;clip: rect(1px 1px 1px 1px);clip: rect(1px, 1px, 1px, 1px);height: 1px;margin: -1px;overflow: hidden;padding: 0;position: absolute;width: 1px;}#sk-container-id-1 div.sk-estimator {font-family: monospace;background-color: #f0f8ff;border: 1px dotted black;border-radius: 0.25em;box-sizing: border-box;margin-bottom: 0.5em;}#sk-container-id-1 div.sk-estimator:hover {background-color: #d4ebff;}#sk-container-id-1 div.sk-parallel-item::after {content: \"\";width: 100%;border-bottom: 1px solid gray;flex-grow: 1;}#sk-container-id-1 div.sk-label:hover label.sk-toggleable__label {background-color: #d4ebff;}#sk-container-id-1 div.sk-serial::before {content: \"\";position: absolute;border-left: 1px solid gray;box-sizing: border-box;top: 0;bottom: 0;left: 50%;z-index: 0;}#sk-container-id-1 div.sk-serial {display: flex;flex-direction: column;align-items: center;background-color: white;padding-right: 0.2em;padding-left: 0.2em;position: relative;}#sk-container-id-1 div.sk-item {position: relative;z-index: 1;}#sk-container-id-1 div.sk-parallel {display: flex;align-items: stretch;justify-content: center;background-color: white;position: relative;}#sk-container-id-1 div.sk-item::before, #sk-container-id-1 div.sk-parallel-item::before {content: \"\";position: absolute;border-left: 1px solid gray;box-sizing: border-box;top: 0;bottom: 0;left: 50%;z-index: -1;}#sk-container-id-1 div.sk-parallel-item {display: flex;flex-direction: column;z-index: 1;position: relative;background-color: white;}#sk-container-id-1 div.sk-parallel-item:first-child::after {align-self: flex-end;width: 50%;}#sk-container-id-1 div.sk-parallel-item:last-child::after {align-self: flex-start;width: 50%;}#sk-container-id-1 div.sk-parallel-item:only-child::after {width: 0;}#sk-container-id-1 div.sk-dashed-wrapped {border: 1px dashed gray;margin: 0 0.4em 0.5em 0.4em;box-sizing: border-box;padding-bottom: 0.4em;background-color: white;}#sk-container-id-1 div.sk-label label {font-family: monospace;font-weight: bold;display: inline-block;line-height: 1.2em;}#sk-container-id-1 div.sk-label-container {text-align: center;}#sk-container-id-1 div.sk-container {/* jupyter's `normalize.less` sets `[hidden] { display: none; }` but bootstrap.min.css set `[hidden] { display: none !important; }` so we also need the `!important` here to be able to override the default hidden behavior on the sphinx rendered scikit-learn.org. See: https://github.com/scikit-learn/scikit-learn/issues/21755 */display: inline-block !important;position: relative;}#sk-container-id-1 div.sk-text-repr-fallback {display: none;}</style><div id=\"sk-container-id-1\" class=\"sk-top-container\"><div class=\"sk-text-repr-fallback\"><pre>MultiOutputRegressor(estimator=TabPFNRegressor(device=&#x27;cuda&#x27;))</pre><b>In a Jupyter environment, please rerun this cell to show the HTML representation or trust the notebook. <br />On GitHub, the HTML representation is unable to render, please try loading this page with nbviewer.org.</b></div><div class=\"sk-container\" hidden><div class=\"sk-item sk-dashed-wrapped\"><div class=\"sk-label-container\"><div class=\"sk-label sk-toggleable\"><input class=\"sk-toggleable__control sk-hidden--visually\" id=\"sk-estimator-id-1\" type=\"checkbox\" ><label for=\"sk-estimator-id-1\" class=\"sk-toggleable__label sk-toggleable__label-arrow\">MultiOutputRegressor</label><div class=\"sk-toggleable__content\"><pre>MultiOutputRegressor(estimator=TabPFNRegressor(device=&#x27;cuda&#x27;))</pre></div></div></div><div class=\"sk-parallel\"><div class=\"sk-parallel-item\"><div class=\"sk-item\"><div class=\"sk-label-container\"><div class=\"sk-label sk-toggleable\"><input class=\"sk-toggleable__control sk-hidden--visually\" id=\"sk-estimator-id-2\" type=\"checkbox\" ><label for=\"sk-estimator-id-2\" class=\"sk-toggleable__label sk-toggleable__label-arrow\">estimator: TabPFNRegressor</label><div class=\"sk-toggleable__content\"><pre>TabPFNRegressor(device=&#x27;cuda&#x27;)</pre></div></div></div><div class=\"sk-serial\"><div class=\"sk-item\"><div class=\"sk-estimator sk-toggleable\"><input class=\"sk-toggleable__control sk-hidden--visually\" id=\"sk-estimator-id-3\" type=\"checkbox\" ><label for=\"sk-estimator-id-3\" class=\"sk-toggleable__label sk-toggleable__label-arrow\">TabPFNRegressor</label><div class=\"sk-toggleable__content\"><pre>TabPFNRegressor(device=&#x27;cuda&#x27;)</pre></div></div></div></div></div></div></div></div></div></div>"
      ],
      "text/plain": [
       "MultiOutputRegressor(estimator=TabPFNRegressor(device='cuda'))"
      ]
     },
     "execution_count": 21,
     "metadata": {},
     "output_type": "execute_result"
    }
   ],
   "source": [
    "# Fit the model\n",
    "clf.fit(X_train, y_train)"
   ]
  },
  {
   "cell_type": "code",
   "execution_count": 22,
   "metadata": {
    "execution": {
     "iopub.execute_input": "2025-07-12T19:48:16.182177Z",
     "iopub.status.busy": "2025-07-12T19:48:16.181953Z",
     "iopub.status.idle": "2025-07-12T19:49:06.600015Z",
     "shell.execute_reply": "2025-07-12T19:49:06.599313Z",
     "shell.execute_reply.started": "2025-07-12T19:48:16.182161Z"
    },
    "trusted": true
   },
   "outputs": [
    {
     "name": "stdout",
     "output_type": "stream",
     "text": [
      "Predictions shape: (500, 10)\n"
     ]
    }
   ],
   "source": [
    "# Make predictions\n",
    "predictions = clf.predict(X_test)\n",
    "print(f\"Predictions shape: {predictions.shape}\")"
   ]
  },
  {
   "cell_type": "code",
   "execution_count": 23,
   "metadata": {
    "execution": {
     "iopub.execute_input": "2025-07-12T19:49:31.480550Z",
     "iopub.status.busy": "2025-07-12T19:49:31.480256Z",
     "iopub.status.idle": "2025-07-12T19:49:31.492307Z",
     "shell.execute_reply": "2025-07-12T19:49:31.491495Z",
     "shell.execute_reply.started": "2025-07-12T19:49:31.480527Z"
    },
    "trusted": true
   },
   "outputs": [
    {
     "name": "stdout",
     "output_type": "stream",
     "text": [
      "Shape of the new combined DataFrame: (500, 11)\n",
      "\n",
      "Top 5 rows of the combined DataFrame:\n"
     ]
    }
   ],
   "source": [
    "# First, create the list of new column names\n",
    "target_columns = [f'BlendProperty{i}' for i in range(1, 11)]\n",
    "\n",
    "# Create a copy to avoid modifying your original 'test' DataFrame\n",
    "test_with_predictions = test.copy()\n",
    "\n",
    "# Directly assign the NumPy array to the new columns\n",
    "# Pandas is smart enough to map the columns of the array to the new column names.\n",
    "test_with_predictions[target_columns] = predictions\n",
    "\n",
    "test_with_predictions=test_with_predictions[['ID']+target_columns]\n",
    "# --- 3. Verify the Result ---\n",
    "print(\"Shape of the new combined DataFrame:\", test_with_predictions.shape)\n",
    "print(\"\\nTop 5 rows of the combined DataFrame:\")\n"
   ]
  },
  {
   "cell_type": "code",
   "execution_count": 24,
   "metadata": {
    "execution": {
     "iopub.execute_input": "2025-07-12T19:49:38.539963Z",
     "iopub.status.busy": "2025-07-12T19:49:38.539334Z",
     "iopub.status.idle": "2025-07-12T19:49:38.562600Z",
     "shell.execute_reply": "2025-07-12T19:49:38.562105Z",
     "shell.execute_reply.started": "2025-07-12T19:49:38.539937Z"
    },
    "trusted": true
   },
   "outputs": [
    {
     "data": {
      "text/html": [
       "<div>\n",
       "<style scoped>\n",
       "    .dataframe tbody tr th:only-of-type {\n",
       "        vertical-align: middle;\n",
       "    }\n",
       "\n",
       "    .dataframe tbody tr th {\n",
       "        vertical-align: top;\n",
       "    }\n",
       "\n",
       "    .dataframe thead th {\n",
       "        text-align: right;\n",
       "    }\n",
       "</style>\n",
       "<table border=\"1\" class=\"dataframe\">\n",
       "  <thead>\n",
       "    <tr style=\"text-align: right;\">\n",
       "      <th></th>\n",
       "      <th>ID</th>\n",
       "      <th>BlendProperty1</th>\n",
       "      <th>BlendProperty2</th>\n",
       "      <th>BlendProperty3</th>\n",
       "      <th>BlendProperty4</th>\n",
       "      <th>BlendProperty5</th>\n",
       "      <th>BlendProperty6</th>\n",
       "      <th>BlendProperty7</th>\n",
       "      <th>BlendProperty8</th>\n",
       "      <th>BlendProperty9</th>\n",
       "      <th>BlendProperty10</th>\n",
       "    </tr>\n",
       "  </thead>\n",
       "  <tbody>\n",
       "    <tr>\n",
       "      <th>0</th>\n",
       "      <td>1</td>\n",
       "      <td>0.155831</td>\n",
       "      <td>0.195178</td>\n",
       "      <td>0.804584</td>\n",
       "      <td>0.715683</td>\n",
       "      <td>0.351751</td>\n",
       "      <td>0.767343</td>\n",
       "      <td>0.766554</td>\n",
       "      <td>0.295481</td>\n",
       "      <td>-0.372142</td>\n",
       "      <td>0.316256</td>\n",
       "    </tr>\n",
       "    <tr>\n",
       "      <th>1</th>\n",
       "      <td>2</td>\n",
       "      <td>-0.657282</td>\n",
       "      <td>-0.712930</td>\n",
       "      <td>-1.176398</td>\n",
       "      <td>0.031496</td>\n",
       "      <td>-0.728128</td>\n",
       "      <td>-0.125800</td>\n",
       "      <td>-1.169354</td>\n",
       "      <td>-1.111023</td>\n",
       "      <td>-0.909405</td>\n",
       "      <td>-0.008636</td>\n",
       "    </tr>\n",
       "    <tr>\n",
       "      <th>2</th>\n",
       "      <td>3</td>\n",
       "      <td>1.814321</td>\n",
       "      <td>1.163385</td>\n",
       "      <td>1.158747</td>\n",
       "      <td>1.111380</td>\n",
       "      <td>2.547431</td>\n",
       "      <td>1.795956</td>\n",
       "      <td>1.116346</td>\n",
       "      <td>2.001594</td>\n",
       "      <td>0.736295</td>\n",
       "      <td>2.209446</td>\n",
       "    </tr>\n",
       "    <tr>\n",
       "      <th>3</th>\n",
       "      <td>4</td>\n",
       "      <td>-0.465750</td>\n",
       "      <td>0.080764</td>\n",
       "      <td>0.807001</td>\n",
       "      <td>-0.700137</td>\n",
       "      <td>1.889994</td>\n",
       "      <td>-0.536108</td>\n",
       "      <td>0.759573</td>\n",
       "      <td>1.694087</td>\n",
       "      <td>0.736576</td>\n",
       "      <td>-0.907193</td>\n",
       "    </tr>\n",
       "    <tr>\n",
       "      <th>4</th>\n",
       "      <td>5</td>\n",
       "      <td>0.098901</td>\n",
       "      <td>-1.024938</td>\n",
       "      <td>1.039546</td>\n",
       "      <td>0.523161</td>\n",
       "      <td>2.504419</td>\n",
       "      <td>0.263571</td>\n",
       "      <td>1.026625</td>\n",
       "      <td>-0.001627</td>\n",
       "      <td>-0.453031</td>\n",
       "      <td>1.148754</td>\n",
       "    </tr>\n",
       "    <tr>\n",
       "      <th>...</th>\n",
       "      <td>...</td>\n",
       "      <td>...</td>\n",
       "      <td>...</td>\n",
       "      <td>...</td>\n",
       "      <td>...</td>\n",
       "      <td>...</td>\n",
       "      <td>...</td>\n",
       "      <td>...</td>\n",
       "      <td>...</td>\n",
       "      <td>...</td>\n",
       "      <td>...</td>\n",
       "    </tr>\n",
       "    <tr>\n",
       "      <th>495</th>\n",
       "      <td>496</td>\n",
       "      <td>0.201744</td>\n",
       "      <td>-0.962754</td>\n",
       "      <td>1.106679</td>\n",
       "      <td>-0.241950</td>\n",
       "      <td>-0.277259</td>\n",
       "      <td>-0.782664</td>\n",
       "      <td>1.095795</td>\n",
       "      <td>-0.589779</td>\n",
       "      <td>-1.307725</td>\n",
       "      <td>-0.367207</td>\n",
       "    </tr>\n",
       "    <tr>\n",
       "      <th>496</th>\n",
       "      <td>497</td>\n",
       "      <td>-2.184760</td>\n",
       "      <td>-1.257445</td>\n",
       "      <td>-1.061769</td>\n",
       "      <td>-2.289684</td>\n",
       "      <td>-0.627200</td>\n",
       "      <td>-2.443931</td>\n",
       "      <td>-1.045503</td>\n",
       "      <td>-1.869990</td>\n",
       "      <td>-1.227674</td>\n",
       "      <td>-1.443271</td>\n",
       "    </tr>\n",
       "    <tr>\n",
       "      <th>497</th>\n",
       "      <td>498</td>\n",
       "      <td>1.955008</td>\n",
       "      <td>2.124726</td>\n",
       "      <td>0.296155</td>\n",
       "      <td>1.346314</td>\n",
       "      <td>-0.014256</td>\n",
       "      <td>0.669229</td>\n",
       "      <td>0.268499</td>\n",
       "      <td>1.079289</td>\n",
       "      <td>0.217352</td>\n",
       "      <td>0.451333</td>\n",
       "    </tr>\n",
       "    <tr>\n",
       "      <th>498</th>\n",
       "      <td>499</td>\n",
       "      <td>-0.216230</td>\n",
       "      <td>0.814024</td>\n",
       "      <td>1.609025</td>\n",
       "      <td>-1.313257</td>\n",
       "      <td>-0.912242</td>\n",
       "      <td>0.201408</td>\n",
       "      <td>1.892087</td>\n",
       "      <td>0.550111</td>\n",
       "      <td>0.096723</td>\n",
       "      <td>1.229987</td>\n",
       "    </tr>\n",
       "    <tr>\n",
       "      <th>499</th>\n",
       "      <td>500</td>\n",
       "      <td>-1.032747</td>\n",
       "      <td>-1.968970</td>\n",
       "      <td>-1.979215</td>\n",
       "      <td>-1.647444</td>\n",
       "      <td>-0.023870</td>\n",
       "      <td>-1.962081</td>\n",
       "      <td>-1.951829</td>\n",
       "      <td>-1.908514</td>\n",
       "      <td>-2.442693</td>\n",
       "      <td>-0.236649</td>\n",
       "    </tr>\n",
       "  </tbody>\n",
       "</table>\n",
       "<p>500 rows × 11 columns</p>\n",
       "</div>"
      ],
      "text/plain": [
       "      ID  BlendProperty1  BlendProperty2  BlendProperty3  BlendProperty4  \\\n",
       "0      1        0.155831        0.195178        0.804584        0.715683   \n",
       "1      2       -0.657282       -0.712930       -1.176398        0.031496   \n",
       "2      3        1.814321        1.163385        1.158747        1.111380   \n",
       "3      4       -0.465750        0.080764        0.807001       -0.700137   \n",
       "4      5        0.098901       -1.024938        1.039546        0.523161   \n",
       "..   ...             ...             ...             ...             ...   \n",
       "495  496        0.201744       -0.962754        1.106679       -0.241950   \n",
       "496  497       -2.184760       -1.257445       -1.061769       -2.289684   \n",
       "497  498        1.955008        2.124726        0.296155        1.346314   \n",
       "498  499       -0.216230        0.814024        1.609025       -1.313257   \n",
       "499  500       -1.032747       -1.968970       -1.979215       -1.647444   \n",
       "\n",
       "     BlendProperty5  BlendProperty6  BlendProperty7  BlendProperty8  \\\n",
       "0          0.351751        0.767343        0.766554        0.295481   \n",
       "1         -0.728128       -0.125800       -1.169354       -1.111023   \n",
       "2          2.547431        1.795956        1.116346        2.001594   \n",
       "3          1.889994       -0.536108        0.759573        1.694087   \n",
       "4          2.504419        0.263571        1.026625       -0.001627   \n",
       "..              ...             ...             ...             ...   \n",
       "495       -0.277259       -0.782664        1.095795       -0.589779   \n",
       "496       -0.627200       -2.443931       -1.045503       -1.869990   \n",
       "497       -0.014256        0.669229        0.268499        1.079289   \n",
       "498       -0.912242        0.201408        1.892087        0.550111   \n",
       "499       -0.023870       -1.962081       -1.951829       -1.908514   \n",
       "\n",
       "     BlendProperty9  BlendProperty10  \n",
       "0         -0.372142         0.316256  \n",
       "1         -0.909405        -0.008636  \n",
       "2          0.736295         2.209446  \n",
       "3          0.736576        -0.907193  \n",
       "4         -0.453031         1.148754  \n",
       "..              ...              ...  \n",
       "495       -1.307725        -0.367207  \n",
       "496       -1.227674        -1.443271  \n",
       "497        0.217352         0.451333  \n",
       "498        0.096723         1.229987  \n",
       "499       -2.442693        -0.236649  \n",
       "\n",
       "[500 rows x 11 columns]"
      ]
     },
     "execution_count": 24,
     "metadata": {},
     "output_type": "execute_result"
    }
   ],
   "source": [
    "test_with_predictions"
   ]
  },
  {
   "cell_type": "code",
   "execution_count": 26,
   "metadata": {
    "execution": {
     "iopub.execute_input": "2025-07-12T19:49:58.475235Z",
     "iopub.status.busy": "2025-07-12T19:49:58.474972Z",
     "iopub.status.idle": "2025-07-12T19:49:58.485886Z",
     "shell.execute_reply": "2025-07-12T19:49:58.485180Z",
     "shell.execute_reply.started": "2025-07-12T19:49:58.475213Z"
    },
    "trusted": true
   },
   "outputs": [],
   "source": [
    "test_with_predictions.to_csv('tabpfn.csv',index=False)"
   ]
  },
  {
   "cell_type": "code",
   "execution_count": null,
   "metadata": {},
   "outputs": [],
   "source": []
  }
 ],
 "metadata": {
  "kaggle": {
   "accelerator": "nvidiaTeslaT4",
   "dataSources": [
    {
     "datasetId": 7854132,
     "sourceId": 12450819,
     "sourceType": "datasetVersion"
    }
   ],
   "dockerImageVersionId": 31090,
   "isGpuEnabled": true,
   "isInternetEnabled": true,
   "language": "python",
   "sourceType": "notebook"
  },
  "kernelspec": {
   "display_name": "base",
   "language": "python",
   "name": "python3"
  },
  "language_info": {
   "codemirror_mode": {
    "name": "ipython",
    "version": 3
   },
   "file_extension": ".py",
   "mimetype": "text/x-python",
   "name": "python",
   "nbconvert_exporter": "python",
   "pygments_lexer": "ipython3",
   "version": "3.12.7"
  }
 },
 "nbformat": 4,
 "nbformat_minor": 4
}
